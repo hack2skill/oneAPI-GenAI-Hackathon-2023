{
 "cells": [
  {
   "cell_type": "code",
   "execution_count": 27,
   "id": "initial_id",
   "metadata": {
    "ExecuteTime": {
     "end_time": "2023-11-27T05:00:31.715297900Z",
     "start_time": "2023-11-27T05:00:31.708293800Z"
    }
   },
   "outputs": [],
   "source": [
    "import os\n",
    "from torchvision.transforms import transforms\n",
    "from torch import nn\n",
    "import torchvision\n",
    "from torch.utils.data import DataLoader\n",
    "import torch.optim as optim\n",
    "from tqdm.notebook import tqdm\n",
    "from PIL import Image\n",
    "import numpy as np\n",
    "import matplotlib.pyplot as plt"
   ]
  },
  {
   "cell_type": "code",
   "execution_count": 18,
   "id": "3ae0d4db-199e-49d9-8664-258958a80d6c",
   "metadata": {},
   "outputs": [],
   "source": [
    "transformation = transforms.Compose([\n",
    "    transforms.Resize((256,256)),\n",
    "    transforms.RandomRotation(30),\n",
    "    transforms.RandomHorizontalFlip(p=0.5),\n",
    "    transforms.ColorJitter(brightness=0.2, contrast=0.2, saturation=0.2, hue=0.1),\n",
    "    transforms.ToTensor(),\n",
    "      transforms.Normalize([0.5,0.5,0.5], # 0-1 to [-1,1] , formula (x-mean)/std\n",
    "                        [0.5,0.5,0.5])\n",
    "])"
   ]
  },
  {
   "cell_type": "code",
   "execution_count": 19,
   "id": "35ec908c-97ee-4d5d-908b-2ebdd7c64177",
   "metadata": {},
   "outputs": [],
   "source": [
    "\n",
    "train_path = \"content/images/\"\n",
    "train_loader=DataLoader(\n",
    "    torchvision.datasets.ImageFolder(train_path,transform=transformation),\n",
    "    batch_size=64, shuffle=True\n",
    ")"
   ]
  },
  {
   "cell_type": "code",
   "execution_count": null,
   "id": "43465e26-f1ca-4a6e-be23-46ddc076593c",
   "metadata": {},
   "outputs": [],
   "source": [
    "class watch_cnn:\n",
    "    def __init__(self,num_of_classes = 10):\n",
    "        super().__init__()\n",
    "        self.convo_layer1 = nn.Sequential(\n",
    "            nn.Conv2d(in_channels=3,out_channels=12,kernel_size=3,stride=1,padding=1),\n",
    "            nn.BatchNorm2d(num_features=12),\n",
    "            nn.ReLU(),\n",
    "            nn.MaxPool2d(kernel_size=2)\n",
    "\n",
    "        )\n",
    "    self.convo_layer2 = nn.Sequential(\n",
    "        nn.Conv2d(in_channels=12,out_channels=20,kernel_size=3,stride=1,padding=1),\n",
    "        y\n",
    "    )\n",
    "        "
   ]
  },
  {
   "cell_type": "code",
   "execution_count": null,
   "id": "25c8ae68-4b6b-48b2-9c71-cd5e2d461019",
   "metadata": {},
   "outputs": [],
   "source": []
  }
 ],
 "metadata": {
  "kernelspec": {
   "display_name": "Python 3 (ipykernel)",
   "language": "python",
   "name": "python3"
  },
  "language_info": {
   "codemirror_mode": {
    "name": "ipython",
    "version": 3
   },
   "file_extension": ".py",
   "mimetype": "text/x-python",
   "name": "python",
   "nbconvert_exporter": "python",
   "pygments_lexer": "ipython3",
   "version": "3.11.5"
  }
 },
 "nbformat": 4,
 "nbformat_minor": 5
}
