{
 "cells": [
  {
   "cell_type": "code",
   "execution_count": null,
   "id": "ab2d45bd-8bc6-4a18-adc6-87df314d70f9",
   "metadata": {},
   "outputs": [],
   "source": [
    "from langchain.document_loaders.csv_loader import CSVLoader\n",
    "from langchain.text_splitter import RecursiveCharacterTextSplitter\n",
    "from langchain.embeddings import HuggingFaceEmbeddings\n",
    "from langchain.vectorstores import FAISS\n",
    "from langchain.llms import CTransformers\n",
    "from langchain.memory import ConversationBufferMemory\n",
    "from langchain.chains import ConversationalRetrievalChain\n",
    "import sys"
   ]
  },
  {
   "cell_type": "code",
   "execution_count": null,
   "id": "85e81f7e-3e0a-4a23-801b-c9c025240621",
   "metadata": {},
   "outputs": [],
   "source": [
    "DB_FAISS_PATH = \"vectorstore/db_faiss\"\n",
    "loader = CSVLoader(file_path=\"products.csv\", encoding=\"utf-8\", csv_args={'delimiter': ','})\n",
    "data = loader.load()\n",
    "print(data)"
   ]
  },
  {
   "cell_type": "code",
   "execution_count": null,
   "id": "3a94eb9b-1fb6-43e6-92df-af790ee9c4f1",
   "metadata": {},
   "outputs": [],
   "source": [
    "text_splitter = RecursiveCharacterTextSplitter(chunk_size=500, chunk_overlap=20)\n",
    "text_chunks = text_splitter.split_documents(data)"
   ]
  },
  {
   "cell_type": "code",
   "execution_count": null,
   "id": "3301f8f1-5d28-4086-b1ca-2599ec630f81",
   "metadata": {},
   "outputs": [],
   "source": [
    "print(len(text_chunks))"
   ]
  },
  {
   "cell_type": "code",
   "execution_count": null,
   "id": "0860d4cc-363c-4842-8d35-fc19169346ac",
   "metadata": {},
   "outputs": [],
   "source": [
    "embeddings = HuggingFaceEmbeddings(model_name = 'sentence-transformers/all-MiniLM-L6-v2')"
   ]
  },
  {
   "cell_type": "code",
   "execution_count": null,
   "id": "067afb51-7308-4162-8603-dd5df434d050",
   "metadata": {},
   "outputs": [],
   "source": [
    "docsearch = FAISS.from_documents(text_chunks, embeddings)"
   ]
  },
  {
   "cell_type": "code",
   "execution_count": null,
   "id": "bf75bd3c-cbf3-4ce1-b42a-f4c5fde31b76",
   "metadata": {},
   "outputs": [],
   "source": [
    "\n",
    "llm = CTransformers(model=\"TheBloke/Llama-2-13B-Ensemble-v5-GGUF\",\n",
    "                            model_file=\"llama-2-13b-ensemble-v5.Q5_K_M.gguf\",\n",
    "                            model_type=\"llama\",\n",
    "                            max_new_tokens=512,\n",
    "                            temperature=0.1, n_gpu_layers=200)"
   ]
  },
  {
   "cell_type": "code",
   "execution_count": null,
   "id": "0406d6ee-e840-45cb-bbaa-578485e8a08c",
   "metadata": {},
   "outputs": [],
   "source": [
    "qa = ConversationalRetrievalChain.from_llm(llm, retriever=docsearch.as_retriever())"
   ]
  },
  {
   "cell_type": "code",
   "execution_count": null,
   "id": "260443bc-ff8b-4cbd-8ff6-b8f00b840244",
   "metadata": {},
   "outputs": [],
   "source": [
    "query = \"I like apple smart watches\""
   ]
  },
  {
   "cell_type": "code",
   "execution_count": null,
   "id": "8dfddc06-8d2a-4384-a51b-eb4ec4239ea3",
   "metadata": {},
   "outputs": [],
   "source": [
    "result = qa({\"question\":query, \"chat_history\":chat_history})\n",
    "print(\"Response: \", result['answer'])"
   ]
  },
  {
   "cell_type": "code",
   "execution_count": null,
   "id": "7c1d3406-3c67-488f-a3aa-a66c3c92b459",
   "metadata": {},
   "outputs": [],
   "source": [
    "result['answer'].split('\\n')[0]"
   ]
  },
  {
   "cell_type": "code",
   "execution_count": null,
   "id": "7b3166c1-c50a-4685-ab24-43b8cd76cc88",
   "metadata": {},
   "outputs": [],
   "source": [
    "query = \"recommend me only the brand name if i like apple smart watches\""
   ]
  },
  {
   "cell_type": "code",
   "execution_count": null,
   "id": "185471eb-2dbb-4f9f-9429-a5b9bd037be1",
   "metadata": {},
   "outputs": [],
   "source": [
    " result = qa({\"question\":query, \"chat_history\":[]})"
   ]
  },
  {
   "cell_type": "code",
   "execution_count": null,
   "id": "48440254-cafa-40cd-837e-ce98261c326a",
   "metadata": {},
   "outputs": [],
   "source": [
    "result"
   ]
  },
  {
   "cell_type": "code",
   "execution_count": null,
   "id": "57b12d10-cfe7-4764-953f-6f2f05436c68",
   "metadata": {},
   "outputs": [],
   "source": [
    "result"
   ]
  },
  {
   "cell_type": "code",
   "execution_count": null,
   "id": "29d76c2f-3d65-4113-a65d-108bce93a9ba",
   "metadata": {},
   "outputs": [],
   "source": [
    "\n"
   ]
  },
  {
   "cell_type": "code",
   "execution_count": null,
   "id": "20f5ceef-36fe-4a42-ad56-19facc055aff",
   "metadata": {},
   "outputs": [],
   "source": []
  }
 ],
 "metadata": {
  "kernelspec": {
   "display_name": "pytorch-gpu",
   "language": "python",
   "name": "pytorch-gpu"
  },
  "language_info": {
   "codemirror_mode": {
    "name": "ipython",
    "version": 3
   },
   "file_extension": ".py",
   "mimetype": "text/x-python",
   "name": "python",
   "nbconvert_exporter": "python",
   "pygments_lexer": "ipython3",
   "version": "3.9.16"
  }
 },
 "nbformat": 4,
 "nbformat_minor": 5
}
